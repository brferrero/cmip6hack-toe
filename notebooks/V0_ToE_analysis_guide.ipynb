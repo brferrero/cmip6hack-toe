{
 "cells": [
  {
   "cell_type": "markdown",
   "metadata": {},
   "source": [
    "<h1>Time of Emergence: An Overview</h1> \n",
    "<h3>CMIP6 Hackathon, October 2019</h3> \n",
    "<h5>Felicia Chiang, Kevin Donkers, Marie McGraw, Maria Molina, Daniel Rothenberg</h5>"
   ]
  },
  {
   "cell_type": "markdown",
   "metadata": {},
   "source": [
    "<h3> Introduction </h3>\n",
    "Climate predictions and assessments that depend on them are interested in quantifying when the signal of anthropogenic climate change can be said to be distinct from the noise of the natural variability of the climate system.  This concept of a \"climate change signal\" is important for detection and attribution of climate change, and can have potentially substantial implications for policy research. The <b> time of emergence </b> is thus this time step in which the anthropogenic climate change <i>signal</i> can be significantly distinguished from the <i>noise</i> of natural variability. How we estimate the climate change signal, the natural variability of the climate system, and how we compare the two and establish significance criteria is thus the backbone of this analysis. <br>\n",
    "<br>\n",
    "As one might imagine, there are many different ways to formulate a time of emergence estimate.  The precise experimental design and implementation of such an analysis will thus vary. Our first goal is to provide a resource that walks the readers through one commonly utilized, fairly straightforward approach to estimating <b> time of emergence </b> (following Hawkins and Sutton (2012)). Our second goal is to explain the thought process behind this approach in a way that will give readers the context and tools they need in order to tweak or reformulate this framework to meet the needs of their own scientific investigations. <br>\n",
    "<br>\n",
    "Ultimately, this analysis, like all statistically-based analyses, should not be thought of as a prescribed recipe that one can robotically apply to any dataset. Rather, we hope to demonstrate to the reader that this is more of a framework, an approach to problem solving, a decision-making process that can guide the scientist's thinking. People should and will make different decisions based on their individual expertise and domain knowledge, their variables of interest and available datasets, and the ultimate aims and goals of their specific scientific investigations. Think critically at every step, know your data, and be able to explain and justify the decisions that you make.  Go forth and estimate! "
   ]
  },
  {
   "cell_type": "markdown",
   "metadata": {},
   "source": [
    "<h3> Overview of Hawkins and Sutton (2012) </h3>\n",
    "<h5>Aims of Hawkins and Sutton (2012) </h5>\n",
    "Hawkins and Sutton (2012) seek to estimate the time of emergence of anthropogenic warming in surface air temperature for a set of coupled climate model simulations.  Ultimately, they endeavor to explore: <br>\n",
    "<ol>\n",
    "    <li> How estimates of time of emergence of anthropogenic climate change for surface air temperature vary across different climate models forced by the same forcing; </li>\n",
    "    <li> How time of emergence might vary spatially, and any variability in these spatial patterns across different climate models. </li>\n",
    "    </ol>"
   ]
  },
  {
   "cell_type": "markdown",
   "metadata": {},
   "source": [
    "<h5>Approach of Hawkins and Sutton (2012)</h5>\n",
    "Hawkins and Sutton (hereafter HS12) define <b> time of emergence </b> as the first year in which the <b> signal to noise </b> ratio exceeds some threshold. Thus, to make this estimate, they need to be able to compute the <b> signal </b> and the <b> noise </b>:\n",
    "<ol>\n",
    "    <li> <b> Noise: </b> the noise is estimated from a <i>pre-industrial control</i> simulation.  Since this simulation is very long, free-running, and absent of anthropogenic forcing, it should give a robust assessment of the natural variability of the climate system. \n",
    "    <li> <b> Signal: </b> the signal of anthropogenic climate change is estimated from two model simulations: an <i> historical</i> simulation, and a <i>future scenario</i>. The <i>historical</i> simulation is forced with our best estimates of observed anthropogenic forcing, while the <i>future scenario</i> is a projection of the future climate based on estimates of future anthropogenic forcing. HS12 use a high-emissions scenario from CMIP3 (SRSA1B, equivalent to RCP6 from the CMIP5 experiments).   \n",
    "</ol>\n",
    "<br>\n",
    "HS12 estimate the <b>noise</b> for each model by simply estimating the standard deviation across time at each gridpoint in a <i>pre-industrial control</i> simulation.  Thus, the noise should be a <code>[lon x lat]</code> array of estimates of the standard deviation of the surface air temperature gridpoint at each model. <br>\n",
    "<br>\n",
    "HS12 estimate the <b>signal</b> by creating a globally-averaged surface air temperature time series starting in the historical period and extending into the end of the future period (1950-2099).  They smooth this global mean surface temperature with a 4-th order polynomial--this smoothed time series is the <b>signal</b>, called T<sub>global</sub>.  The relationship between global anthropogenic warming (represented by <b>signal</b>) and the temperature trend at a given gridpoint is estimated using a linear regression:\n",
    "$$S(t)_{lon,lat} = \\alpha T_{global}(t) + \\beta$$\n",
    "<br>\n",
    "HS12 perform this regression at each gridpoint, creating a <code>[lon x lat]</code> array of regression coefficients that describes how much of the temperature trend at that gridpoint is explained by T<sub>global</sub>.  They apply the results of this regression to predict the temperature trends at each gridpoint. "
   ]
  },
  {
   "cell_type": "markdown",
   "metadata": {},
   "source": [
    "<h5>Results of Hawkins and Sutton (2012)</h5>\n",
    "After computing the <b>signal</b> and the <b>noise</b>, and using the signal to predict temperature at each gridpoint, HS12 perform their <b>time of emergence</b> estimate. They compute a signal to noise ratio--they compare predictions of temperature over time at each gridpoint to the natural variability of that gridpoint.  HS12 declare that the <b>time of emergence</b> occurs in the first year in which the signal to noise ratio exceeds some threshold (they use thresholds of both 1 and 2). <br>\n",
    "<br>\n",
    "This analysis is performed separately for each model. The estimates of <b>time of emergence</b> at each gridpoint are compared across models.  HS12 provide the median ToE (median year at which signal / noise exceeds the determined threshold) across the model ensemble. HS12 find the following:\n",
    "<ol>\n",
    "    <li> The median ToE is earliest in the tropics (the 2030s for signal / noise > 2); </li>\n",
    "    <li> The median ToE is latest in the extratropics (ToE for signal / noise > 2 is later than the 2060s in many regions); </li>\n",
    "    <li> The median ToE in the high Arctic is a bit earlier than the extratropics for signal / noise > 2, especially in the boreal winter (when the warming signal is strongest); </li>\n",
    "    <li> The median ToE over the ocean is generally earlier than the median ToE over land </li>\n",
    "    </ol>\n",
    "    "
   ]
  },
  {
   "cell_type": "markdown",
   "metadata": {},
   "source": [
    "<h3> Analysis Goals </h3>"
   ]
  },
  {
   "cell_type": "markdown",
   "metadata": {},
   "source": [
    "<h5>Scientific Goals </h5>"
   ]
  },
  {
   "cell_type": "markdown",
   "metadata": {},
   "source": [
    "<h5> Didactic Goals </h5>"
   ]
  },
  {
   "cell_type": "markdown",
   "metadata": {},
   "source": [
    "<h3>Deliverables</h3>"
   ]
  },
  {
   "cell_type": "markdown",
   "metadata": {},
   "source": [
    "<h5> Figures </h5>"
   ]
  },
  {
   "cell_type": "markdown",
   "metadata": {},
   "source": [
    "<h5> Analysis Code </h5>"
   ]
  },
  {
   "cell_type": "markdown",
   "metadata": {},
   "source": [
    "<h5> Software </h5>"
   ]
  },
  {
   "cell_type": "markdown",
   "metadata": {},
   "source": [
    "<h3> Required CMIP6 Data and Variables </h3>"
   ]
  },
  {
   "cell_type": "markdown",
   "metadata": {},
   "source": [
    "<h5> Required CMIP6 Data </h5>"
   ]
  },
  {
   "cell_type": "markdown",
   "metadata": {},
   "source": [
    "<h5> Required Variables </h5>"
   ]
  },
  {
   "cell_type": "markdown",
   "metadata": {},
   "source": [
    "<h3> Statistical Methods </h3>"
   ]
  },
  {
   "cell_type": "markdown",
   "metadata": {},
   "source": [
    "<h5> Estimating Noise </h5>"
   ]
  },
  {
   "cell_type": "markdown",
   "metadata": {},
   "source": [
    "<h5> Estimating Signal </h5>"
   ]
  },
  {
   "cell_type": "markdown",
   "metadata": {},
   "source": [
    "<h3> Experimental Parameters </h3>"
   ]
  },
  {
   "cell_type": "markdown",
   "metadata": {},
   "source": [
    "<h3> Results </h3>"
   ]
  },
  {
   "cell_type": "markdown",
   "metadata": {},
   "source": [
    "<h3> Summary </h3>"
   ]
  },
  {
   "cell_type": "markdown",
   "metadata": {},
   "source": [
    "<h3> List of Resources </h3>"
   ]
  },
  {
   "cell_type": "code",
   "execution_count": null,
   "metadata": {},
   "outputs": [],
   "source": []
  }
 ],
 "metadata": {
  "kernelspec": {
   "display_name": "CMIP6 2019.10a",
   "language": "python",
   "name": "cmip6-201910a"
  },
  "language_info": {
   "codemirror_mode": {
    "name": "ipython",
    "version": 3
   },
   "file_extension": ".py",
   "mimetype": "text/x-python",
   "name": "python",
   "nbconvert_exporter": "python",
   "pygments_lexer": "ipython3",
   "version": "3.7.3"
  }
 },
 "nbformat": 4,
 "nbformat_minor": 4
}
