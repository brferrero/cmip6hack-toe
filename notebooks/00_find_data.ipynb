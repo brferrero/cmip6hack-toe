{
 "cells": [
  {
   "cell_type": "markdown",
   "metadata": {},
   "source": [
    "# Importing CMIP6 data from glade (on Cheyenne)"
   ]
  },
  {
   "cell_type": "markdown",
   "metadata": {},
   "source": [
    "## Here is a notebook example of how to access CMIP6 data from glade using intake-esm."
   ]
  },
  {
   "cell_type": "markdown",
   "metadata": {},
   "source": [
    "### Make sure CMIP6 2019.10 kernel is selected.\n",
    "\n",
    "Imports:"
   ]
  },
  {
   "cell_type": "code",
   "execution_count": 1,
   "metadata": {},
   "outputs": [],
   "source": [
    "%matplotlib inline\n",
    "\n",
    "import xarray as xr\n",
    "import intake\n",
    "import util "
   ]
  },
  {
   "cell_type": "markdown",
   "metadata": {},
   "source": [
    "Use the following data cataloging utility to source CMIP6 data sets:"
   ]
  },
  {
   "cell_type": "code",
   "execution_count": 2,
   "metadata": {},
   "outputs": [
    {
     "data": {
      "text/plain": [
       "glade-cmip6-ESM Collection with 698724 entries:\n",
       "\t> 13 activity_id(s)\n",
       "\n",
       "\t> 24 institution_id(s)\n",
       "\n",
       "\t> 47 source_id(s)\n",
       "\n",
       "\t> 68 experiment_id(s)\n",
       "\n",
       "\t> 162 member_id(s)\n",
       "\n",
       "\t> 35 table_id(s)\n",
       "\n",
       "\t> 1027 variable_id(s)\n",
       "\n",
       "\t> 12 grid_label(s)\n",
       "\n",
       "\t> 59 dcpp_init_year(s)\n",
       "\n",
       "\t> 248 version(s)\n",
       "\n",
       "\t> 6813 time_range(s)\n",
       "\n",
       "\t> 698724 path(s)"
      ]
     },
     "execution_count": 2,
     "metadata": {},
     "output_type": "execute_result"
    }
   ],
   "source": [
    "if util.is_ncar_host():\n",
    "    col = intake.open_esm_datastore(\"../catalogs/glade-cmip6.json\")\n",
    "else:\n",
    "    col = intake.open_esm_datastore(\"../catalogs/pangeo-cmip6.json\")\n",
    "col"
   ]
  },
  {
   "cell_type": "markdown",
   "metadata": {},
   "source": [
    "A list of CMIP6 global attributes and id(s) can be found here: https://www.earthsystemcog.org/site_media/projects/wip/CMIP6_global_attributes_filenames_CVs_v6.2.6.pdf\n",
    "\n",
    "For our purposes, we will look for datasets that contain monthly temperature (``Amon``) from models on a native grid (``gn``) that have ``historical``, ``ssp585`` (scenario MIP), and ``piControl`` (pre-industrial control) experiments."
   ]
  },
  {
   "cell_type": "code",
   "execution_count": 3,
   "metadata": {},
   "outputs": [
    {
     "data": {
      "text/plain": [
       "['MRI-ESM2-0',\n",
       " 'CAMS-CSM1-0',\n",
       " 'FGOALS-g3',\n",
       " 'UKESM1-0-LL',\n",
       " 'MIROC-ES2L',\n",
       " 'CanESM5',\n",
       " 'BCC-CSM2-MR',\n",
       " 'MIROC6']"
      ]
     },
     "execution_count": 3,
     "metadata": {},
     "output_type": "execute_result"
    }
   ],
   "source": [
    "uni_dict = col.unique(['source_id', 'experiment_id', 'table_id'])\n",
    "models = set(uni_dict['source_id']['values']) # all the models\n",
    "\n",
    "#search for models with three experiment ids\n",
    "for experiment_id in ['historical', 'ssp585', 'piControl']:\n",
    "    query = dict(experiment_id=experiment_id, table_id='Amon', \n",
    "                 variable_id='tas', grid_label='gn')  \n",
    "    cat = col.search(**query)\n",
    "    models = models.intersection({model for model in cat.df.source_id.unique().tolist()})\n",
    "\n",
    "models = list(models)\n",
    "models"
   ]
  },
  {
   "cell_type": "markdown",
   "metadata": {},
   "source": [
    "Search through the CMIP6 dataset catalogue using the listed id(s) and variables. Then, we will list all metadata from the filtered models as a pandas dataframe."
   ]
  },
  {
   "cell_type": "code",
   "execution_count": 4,
   "metadata": {},
   "outputs": [
    {
     "data": {
      "text/html": [
       "<div>\n",
       "<style scoped>\n",
       "    .dataframe tbody tr th:only-of-type {\n",
       "        vertical-align: middle;\n",
       "    }\n",
       "\n",
       "    .dataframe tbody tr th {\n",
       "        vertical-align: top;\n",
       "    }\n",
       "\n",
       "    .dataframe thead th {\n",
       "        text-align: right;\n",
       "    }\n",
       "</style>\n",
       "<table border=\"1\" class=\"dataframe\">\n",
       "  <thead>\n",
       "    <tr style=\"text-align: right;\">\n",
       "      <th></th>\n",
       "      <th>activity_id</th>\n",
       "      <th>institution_id</th>\n",
       "      <th>source_id</th>\n",
       "      <th>experiment_id</th>\n",
       "      <th>member_id</th>\n",
       "      <th>table_id</th>\n",
       "      <th>variable_id</th>\n",
       "      <th>grid_label</th>\n",
       "      <th>dcpp_init_year</th>\n",
       "      <th>version</th>\n",
       "      <th>time_range</th>\n",
       "      <th>path</th>\n",
       "    </tr>\n",
       "  </thead>\n",
       "  <tbody>\n",
       "    <tr>\n",
       "      <td>35731</td>\n",
       "      <td>CMIP</td>\n",
       "      <td>BCC</td>\n",
       "      <td>BCC-CSM2-MR</td>\n",
       "      <td>historical</td>\n",
       "      <td>r2i1p1f1</td>\n",
       "      <td>Amon</td>\n",
       "      <td>tas</td>\n",
       "      <td>gn</td>\n",
       "      <td>NaN</td>\n",
       "      <td>v20181115</td>\n",
       "      <td>185001-201412</td>\n",
       "      <td>/glade/collections/cmip/CMIP6/CMIP/BCC/BCC-CSM...</td>\n",
       "    </tr>\n",
       "    <tr>\n",
       "      <td>36172</td>\n",
       "      <td>CMIP</td>\n",
       "      <td>BCC</td>\n",
       "      <td>BCC-CSM2-MR</td>\n",
       "      <td>historical</td>\n",
       "      <td>r1i1p1f1</td>\n",
       "      <td>Amon</td>\n",
       "      <td>tas</td>\n",
       "      <td>gn</td>\n",
       "      <td>NaN</td>\n",
       "      <td>v20181126</td>\n",
       "      <td>185001-201412</td>\n",
       "      <td>/glade/collections/cmip/CMIP6/CMIP/BCC/BCC-CSM...</td>\n",
       "    </tr>\n",
       "    <tr>\n",
       "      <td>36609</td>\n",
       "      <td>CMIP</td>\n",
       "      <td>BCC</td>\n",
       "      <td>BCC-CSM2-MR</td>\n",
       "      <td>historical</td>\n",
       "      <td>r3i1p1f1</td>\n",
       "      <td>Amon</td>\n",
       "      <td>tas</td>\n",
       "      <td>gn</td>\n",
       "      <td>NaN</td>\n",
       "      <td>v20181119</td>\n",
       "      <td>185001-201412</td>\n",
       "      <td>/glade/collections/cmip/CMIP6/CMIP/BCC/BCC-CSM...</td>\n",
       "    </tr>\n",
       "    <tr>\n",
       "      <td>37431</td>\n",
       "      <td>CMIP</td>\n",
       "      <td>BCC</td>\n",
       "      <td>BCC-CSM2-MR</td>\n",
       "      <td>piControl</td>\n",
       "      <td>r1i1p1f1</td>\n",
       "      <td>Amon</td>\n",
       "      <td>tas</td>\n",
       "      <td>gn</td>\n",
       "      <td>NaN</td>\n",
       "      <td>v20181016</td>\n",
       "      <td>185001-244912</td>\n",
       "      <td>/glade/collections/cmip/CMIP6/CMIP/BCC/BCC-CSM...</td>\n",
       "    </tr>\n",
       "    <tr>\n",
       "      <td>174777</td>\n",
       "      <td>CMIP</td>\n",
       "      <td>CAS</td>\n",
       "      <td>FGOALS-g3</td>\n",
       "      <td>historical</td>\n",
       "      <td>r2i1p1f1</td>\n",
       "      <td>Amon</td>\n",
       "      <td>tas</td>\n",
       "      <td>gn</td>\n",
       "      <td>NaN</td>\n",
       "      <td>v20190828</td>\n",
       "      <td>196001-196912</td>\n",
       "      <td>/glade/collections/cmip/CMIP6/CMIP/CAS/FGOALS-...</td>\n",
       "    </tr>\n",
       "    <tr>\n",
       "      <td>...</td>\n",
       "      <td>...</td>\n",
       "      <td>...</td>\n",
       "      <td>...</td>\n",
       "      <td>...</td>\n",
       "      <td>...</td>\n",
       "      <td>...</td>\n",
       "      <td>...</td>\n",
       "      <td>...</td>\n",
       "      <td>...</td>\n",
       "      <td>...</td>\n",
       "      <td>...</td>\n",
       "      <td>...</td>\n",
       "    </tr>\n",
       "    <tr>\n",
       "      <td>652996</td>\n",
       "      <td>ScenarioMIP</td>\n",
       "      <td>CAMS</td>\n",
       "      <td>CAMS-CSM1-0</td>\n",
       "      <td>ssp585</td>\n",
       "      <td>r1i1p1f1</td>\n",
       "      <td>Amon</td>\n",
       "      <td>tas</td>\n",
       "      <td>gn</td>\n",
       "      <td>NaN</td>\n",
       "      <td>v20190708</td>\n",
       "      <td>201501-209912</td>\n",
       "      <td>/glade/collections/cmip/CMIP6/ScenarioMIP/CAMS...</td>\n",
       "    </tr>\n",
       "    <tr>\n",
       "      <td>697364</td>\n",
       "      <td>ScenarioMIP</td>\n",
       "      <td>MRI</td>\n",
       "      <td>MRI-ESM2-0</td>\n",
       "      <td>ssp585</td>\n",
       "      <td>r1i1p1f1</td>\n",
       "      <td>Amon</td>\n",
       "      <td>tas</td>\n",
       "      <td>gn</td>\n",
       "      <td>NaN</td>\n",
       "      <td>v20190222</td>\n",
       "      <td>201501-210012</td>\n",
       "      <td>/glade/collections/cmip/CMIP6/ScenarioMIP/MRI/...</td>\n",
       "    </tr>\n",
       "    <tr>\n",
       "      <td>697661</td>\n",
       "      <td>ScenarioMIP</td>\n",
       "      <td>MIROC</td>\n",
       "      <td>MIROC-ES2L</td>\n",
       "      <td>ssp585</td>\n",
       "      <td>r1i1p1f2</td>\n",
       "      <td>Amon</td>\n",
       "      <td>tas</td>\n",
       "      <td>gn</td>\n",
       "      <td>NaN</td>\n",
       "      <td>v20190823</td>\n",
       "      <td>201501-210012</td>\n",
       "      <td>/glade/collections/cmip/CMIP6/ScenarioMIP/MIRO...</td>\n",
       "    </tr>\n",
       "    <tr>\n",
       "      <td>697914</td>\n",
       "      <td>ScenarioMIP</td>\n",
       "      <td>MIROC</td>\n",
       "      <td>MIROC6</td>\n",
       "      <td>ssp585</td>\n",
       "      <td>r2i1p1f1</td>\n",
       "      <td>Amon</td>\n",
       "      <td>tas</td>\n",
       "      <td>gn</td>\n",
       "      <td>NaN</td>\n",
       "      <td>v20190627</td>\n",
       "      <td>201501-210012</td>\n",
       "      <td>/glade/collections/cmip/CMIP6/ScenarioMIP/MIRO...</td>\n",
       "    </tr>\n",
       "    <tr>\n",
       "      <td>697978</td>\n",
       "      <td>ScenarioMIP</td>\n",
       "      <td>MIROC</td>\n",
       "      <td>MIROC6</td>\n",
       "      <td>ssp585</td>\n",
       "      <td>r1i1p1f1</td>\n",
       "      <td>Amon</td>\n",
       "      <td>tas</td>\n",
       "      <td>gn</td>\n",
       "      <td>NaN</td>\n",
       "      <td>v20190627</td>\n",
       "      <td>201501-210012</td>\n",
       "      <td>/glade/collections/cmip/CMIP6/ScenarioMIP/MIRO...</td>\n",
       "    </tr>\n",
       "  </tbody>\n",
       "</table>\n",
       "<p>285 rows × 12 columns</p>\n",
       "</div>"
      ],
      "text/plain": [
       "        activity_id institution_id    source_id experiment_id member_id  \\\n",
       "35731          CMIP            BCC  BCC-CSM2-MR    historical  r2i1p1f1   \n",
       "36172          CMIP            BCC  BCC-CSM2-MR    historical  r1i1p1f1   \n",
       "36609          CMIP            BCC  BCC-CSM2-MR    historical  r3i1p1f1   \n",
       "37431          CMIP            BCC  BCC-CSM2-MR     piControl  r1i1p1f1   \n",
       "174777         CMIP            CAS    FGOALS-g3    historical  r2i1p1f1   \n",
       "...             ...            ...          ...           ...       ...   \n",
       "652996  ScenarioMIP           CAMS  CAMS-CSM1-0        ssp585  r1i1p1f1   \n",
       "697364  ScenarioMIP            MRI   MRI-ESM2-0        ssp585  r1i1p1f1   \n",
       "697661  ScenarioMIP          MIROC   MIROC-ES2L        ssp585  r1i1p1f2   \n",
       "697914  ScenarioMIP          MIROC       MIROC6        ssp585  r2i1p1f1   \n",
       "697978  ScenarioMIP          MIROC       MIROC6        ssp585  r1i1p1f1   \n",
       "\n",
       "       table_id variable_id grid_label  dcpp_init_year    version  \\\n",
       "35731      Amon         tas         gn             NaN  v20181115   \n",
       "36172      Amon         tas         gn             NaN  v20181126   \n",
       "36609      Amon         tas         gn             NaN  v20181119   \n",
       "37431      Amon         tas         gn             NaN  v20181016   \n",
       "174777     Amon         tas         gn             NaN  v20190828   \n",
       "...         ...         ...        ...             ...        ...   \n",
       "652996     Amon         tas         gn             NaN  v20190708   \n",
       "697364     Amon         tas         gn             NaN  v20190222   \n",
       "697661     Amon         tas         gn             NaN  v20190823   \n",
       "697914     Amon         tas         gn             NaN  v20190627   \n",
       "697978     Amon         tas         gn             NaN  v20190627   \n",
       "\n",
       "           time_range                                               path  \n",
       "35731   185001-201412  /glade/collections/cmip/CMIP6/CMIP/BCC/BCC-CSM...  \n",
       "36172   185001-201412  /glade/collections/cmip/CMIP6/CMIP/BCC/BCC-CSM...  \n",
       "36609   185001-201412  /glade/collections/cmip/CMIP6/CMIP/BCC/BCC-CSM...  \n",
       "37431   185001-244912  /glade/collections/cmip/CMIP6/CMIP/BCC/BCC-CSM...  \n",
       "174777  196001-196912  /glade/collections/cmip/CMIP6/CMIP/CAS/FGOALS-...  \n",
       "...               ...                                                ...  \n",
       "652996  201501-209912  /glade/collections/cmip/CMIP6/ScenarioMIP/CAMS...  \n",
       "697364  201501-210012  /glade/collections/cmip/CMIP6/ScenarioMIP/MRI/...  \n",
       "697661  201501-210012  /glade/collections/cmip/CMIP6/ScenarioMIP/MIRO...  \n",
       "697914  201501-210012  /glade/collections/cmip/CMIP6/ScenarioMIP/MIRO...  \n",
       "697978  201501-210012  /glade/collections/cmip/CMIP6/ScenarioMIP/MIRO...  \n",
       "\n",
       "[285 rows x 12 columns]"
      ]
     },
     "execution_count": 4,
     "metadata": {},
     "output_type": "execute_result"
    }
   ],
   "source": [
    "cat = col.search(experiment_id=['historical', 'ssp585', 'piControl'], table_id='Amon', \n",
    "                 variable_id='tas', grid_label='gn', source_id=models)\n",
    "cat.df"
   ]
  },
  {
   "cell_type": "markdown",
   "metadata": {},
   "source": [
    "Finally, we will save the pandas dataframe as a CSV file that contains model information for the simulations that we will use for follow-up analyses."
   ]
  },
  {
   "cell_type": "code",
   "execution_count": 5,
   "metadata": {},
   "outputs": [],
   "source": [
    "cat.df.to_csv('/glade/scratch/molina/CMIP6_pathnames.csv')"
   ]
  },
  {
   "cell_type": "markdown",
   "metadata": {},
   "source": [
    "File saved that can be used to loop through ensemble members and simulations for running follow-up notebooks.\n",
    "### All done!\n",
    "## Extra: Exploring the metadata of selected CMIP6 models"
   ]
  },
  {
   "cell_type": "markdown",
   "metadata": {},
   "source": [
    "Using previous ``cat`` containing filtered model data, we can lazily load the models into an xarray dataset (may take a little while)."
   ]
  },
  {
   "cell_type": "code",
   "execution_count": 6,
   "metadata": {},
   "outputs": [
    {
     "name": "stdout",
     "output_type": "stream",
     "text": [
      "\n",
      "xarray will load netCDF datasets with dask using a single chunk for all arrays.\n",
      "For effective chunking, please provide chunks in cdf_kwargs.\n",
      "For example: cdf_kwargs={'chunks': {'time': 36}}\n",
      "\n",
      "--> The keys in the returned dictionary of datasets are constructed as follows:\n",
      "\t'activity_id.institution_id.source_id.experiment_id.table_id.grid_label'\n",
      "\n",
      "--> There will be 24 group(s)\n"
     ]
    }
   ],
   "source": [
    "dset_dict = cat.to_dataset_dict(zarr_kwargs={'consolidated': True, 'decode_times': False}, \n",
    "                                cdf_kwargs={'chunks': {}, 'decode_times': False})"
   ]
  },
  {
   "cell_type": "markdown",
   "metadata": {},
   "source": [
    "Example of what ``cat`` contains."
   ]
  },
  {
   "cell_type": "code",
   "execution_count": 7,
   "metadata": {},
   "outputs": [
    {
     "data": {
      "text/plain": [
       "glade-cmip6-ESM Collection with 285 entries:\n",
       "\t> 2 activity_id(s)\n",
       "\n",
       "\t> 7 institution_id(s)\n",
       "\n",
       "\t> 8 source_id(s)\n",
       "\n",
       "\t> 3 experiment_id(s)\n",
       "\n",
       "\t> 59 member_id(s)\n",
       "\n",
       "\t> 1 table_id(s)\n",
       "\n",
       "\t> 1 variable_id(s)\n",
       "\n",
       "\t> 1 grid_label(s)\n",
       "\n",
       "\t> 0 dcpp_init_year(s)\n",
       "\n",
       "\t> 24 version(s)\n",
       "\n",
       "\t> 114 time_range(s)\n",
       "\n",
       "\t> 285 path(s)"
      ]
     },
     "execution_count": 7,
     "metadata": {},
     "output_type": "execute_result"
    }
   ],
   "source": [
    "cat"
   ]
  },
  {
   "cell_type": "markdown",
   "metadata": {},
   "source": [
    "Print out a list of the file names of the data sets using the ``keys`` method."
   ]
  },
  {
   "cell_type": "code",
   "execution_count": 8,
   "metadata": {},
   "outputs": [
    {
     "data": {
      "text/plain": [
       "dict_keys(['CMIP.BCC.BCC-CSM2-MR.historical.Amon.gn', 'CMIP.BCC.BCC-CSM2-MR.piControl.Amon.gn', 'CMIP.CAMS.CAMS-CSM1-0.historical.Amon.gn', 'CMIP.CAMS.CAMS-CSM1-0.piControl.Amon.gn', 'CMIP.CAS.FGOALS-g3.historical.Amon.gn', 'CMIP.CAS.FGOALS-g3.piControl.Amon.gn', 'CMIP.CAS.FGOALS-g3.ssp585.Amon.gn', 'CMIP.CCCma.CanESM5.historical.Amon.gn', 'CMIP.CCCma.CanESM5.piControl.Amon.gn', 'CMIP.MIROC.MIROC-ES2L.historical.Amon.gn', 'CMIP.MIROC.MIROC-ES2L.piControl.Amon.gn', 'CMIP.MIROC.MIROC6.historical.Amon.gn', 'CMIP.MIROC.MIROC6.piControl.Amon.gn', 'CMIP.MOHC.UKESM1-0-LL.historical.Amon.gn', 'CMIP.MOHC.UKESM1-0-LL.piControl.Amon.gn', 'CMIP.MRI.MRI-ESM2-0.historical.Amon.gn', 'CMIP.MRI.MRI-ESM2-0.piControl.Amon.gn', 'ScenarioMIP.BCC.BCC-CSM2-MR.ssp585.Amon.gn', 'ScenarioMIP.CAMS.CAMS-CSM1-0.ssp585.Amon.gn', 'ScenarioMIP.CCCma.CanESM5.ssp585.Amon.gn', 'ScenarioMIP.MIROC.MIROC-ES2L.ssp585.Amon.gn', 'ScenarioMIP.MIROC.MIROC6.ssp585.Amon.gn', 'ScenarioMIP.MOHC.UKESM1-0-LL.ssp585.Amon.gn', 'ScenarioMIP.MRI.MRI-ESM2-0.ssp585.Amon.gn'])"
      ]
     },
     "execution_count": 8,
     "metadata": {},
     "output_type": "execute_result"
    }
   ],
   "source": [
    "dset_dict.keys()"
   ]
  },
  {
   "cell_type": "markdown",
   "metadata": {},
   "source": [
    "Select a single member ID from the historical CMIP6 ensembles and view xarray metadata."
   ]
  },
  {
   "cell_type": "code",
   "execution_count": 9,
   "metadata": {},
   "outputs": [
    {
     "data": {
      "text/plain": [
       "<xarray.Dataset>\n",
       "Dimensions:    (bnds: 2, lat: 160, lon: 320, time: 1980)\n",
       "Coordinates:\n",
       "  * lat        (lat) float64 -89.14 -88.03 -86.91 -85.79 ... 86.91 88.03 89.14\n",
       "  * time       (time) float64 15.5 45.0 74.5 ... 6.015e+04 6.018e+04 6.021e+04\n",
       "  * lon        (lon) float64 0.0 1.125 2.25 3.375 ... 355.5 356.6 357.8 358.9\n",
       "    member_id  <U8 'r1i1p1f1'\n",
       "Dimensions without coordinates: bnds\n",
       "Data variables:\n",
       "    lat_bnds   (lat, bnds) float64 -90.0 -88.59 -88.59 ... 88.59 88.59 90.0\n",
       "    time_bnds  (time, bnds) float64 dask.array<chunksize=(1980, 2), meta=np.ndarray>\n",
       "    lon_bnds   (lon, bnds) float64 -0.5625 0.5625 0.5625 ... 358.3 358.3 359.4\n",
       "    height     float64 2.0\n",
       "    tas        (time, lat, lon) float32 dask.array<chunksize=(1980, 160, 320), meta=np.ndarray>\n",
       "Attributes:\n",
       "    forcing_index:          1\n",
       "    source_id:              BCC-CSM2-MR\n",
       "    initialization_index:   1\n",
       "    run_variant:            forcing: greenhouse gases,solar constant,aerosol,...\n",
       "    table_info:             Creation Date:(30 July 2018) MD5:e53ff52009d0b97d...\n",
       "    activity_id:            CMIP\n",
       "    branch_method:          Standard\n",
       "    experiment_id:          historical\n",
       "    parent_mip_era:         CMIP6\n",
       "    sub_experiment:         none\n",
       "    Conventions:            CF-1.7 CMIP-6.2\n",
       "    cmor_version:           3.3.2\n",
       "    source:                 BCC-CSM 2 MR (2017):   aerosol: none  atmos: BCC_...\n",
       "    institution:            Beijing Climate Center, Beijing 100081, China\n",
       "    grid:                   T106\n",
       "    history:                2018-11-26T05:08:26Z ; CMOR rewrote data to be co...\n",
       "    branch_time_in_parent:  2439.0\n",
       "    sub_experiment_id:      none\n",
       "    description:            DECK: historical\n",
       "    variant_label:          r3i1p1f1\n",
       "    license:                CMIP6 model data produced by BCC is licensed unde...\n",
       "    realm:                  atmos\n",
       "    references:             Model described by Tongwen Wu et al. (JGR 2013; J...\n",
       "    institution_id:         BCC\n",
       "    creation_date:          2018-11-19T03:26:44Z\n",
       "    further_info_url:       https://furtherinfo.es-doc.org/CMIP6.BCC.BCC-CSM2...\n",
       "    branch_time_in_child:   0.0\n",
       "    parent_time_units:      days since 1850-01-01\n",
       "    parent_source_id:       BCC-CSM2-MR\n",
       "    grid_label:             gn\n",
       "    comment:                The model integration starts from the piControl e...\n",
       "    parent_experiment_id:   piControl\n",
       "    realization_index:      3\n",
       "    contact:                Dr. Tongwen Wu(twwu@cma.gov.cn)\n",
       "    external_variables:     areacella\n",
       "    data_specs_version:     01.00.27\n",
       "    nominal_resolution:     100 km\n",
       "    experiment:             all-forcing simulation of the recent past\n",
       "    variable_id:            tas\n",
       "    title:                  BCC-CSM2-MR output prepared for CMIP6\n",
       "    parent_activity_id:     CMIP\n",
       "    frequency:              mon\n",
       "    table_id:               Amon\n",
       "    physics_index:          1\n",
       "    mip_era:                CMIP6\n",
       "    source_type:            AOGCM\n",
       "    product:                model-output\n",
       "    tracking_id:            hdl:21.14100/007da5e5-12bb-4fe9-8df9-5cd473280650...\n",
       "    parent_variant_label:   r3i1p1f1"
      ]
     },
     "execution_count": 9,
     "metadata": {},
     "output_type": "execute_result"
    }
   ],
   "source": [
    "first_dataset = dset_dict['CMIP.BCC.BCC-CSM2-MR.historical.Amon.gn'].sel(member_id='r1i1p1f1')\n",
    "first_dataset"
   ]
  },
  {
   "cell_type": "markdown",
   "metadata": {},
   "source": [
    "View the shape of the data array for the monthly temperature variable (``tas``)."
   ]
  },
  {
   "cell_type": "code",
   "execution_count": 11,
   "metadata": {},
   "outputs": [
    {
     "data": {
      "text/html": [
       "<table>\n",
       "<tr>\n",
       "<td>\n",
       "<table>\n",
       "  <thead>\n",
       "    <tr><td> </td><th> Array </th><th> Chunk </th></tr>\n",
       "  </thead>\n",
       "  <tbody>\n",
       "    <tr><th> Bytes </th><td> 405.50 MB </td> <td> 405.50 MB </td></tr>\n",
       "    <tr><th> Shape </th><td> (1980, 160, 320) </td> <td> (1980, 160, 320) </td></tr>\n",
       "    <tr><th> Count </th><td> 16 Tasks </td><td> 1 Chunks </td></tr>\n",
       "    <tr><th> Type </th><td> float32 </td><td> numpy.ndarray </td></tr>\n",
       "  </tbody>\n",
       "</table>\n",
       "</td>\n",
       "<td>\n",
       "<svg width=\"171\" height=\"157\" style=\"stroke:rgb(0,0,0);stroke-width:1\" >\n",
       "\n",
       "  <!-- Horizontal lines -->\n",
       "  <line x1=\"10\" y1=\"0\" x2=\"80\" y2=\"70\" style=\"stroke-width:2\" />\n",
       "  <line x1=\"10\" y1=\"37\" x2=\"80\" y2=\"107\" style=\"stroke-width:2\" />\n",
       "\n",
       "  <!-- Vertical lines -->\n",
       "  <line x1=\"10\" y1=\"0\" x2=\"10\" y2=\"37\" style=\"stroke-width:2\" />\n",
       "  <line x1=\"80\" y1=\"70\" x2=\"80\" y2=\"107\" style=\"stroke-width:2\" />\n",
       "\n",
       "  <!-- Colored Rectangle -->\n",
       "  <polygon points=\"10.000000,0.000000 80.588235,70.588235 80.588235,107.973334 10.000000,37.385098\" style=\"fill:#ECB172A0;stroke-width:0\"/>\n",
       "\n",
       "  <!-- Horizontal lines -->\n",
       "  <line x1=\"10\" y1=\"0\" x2=\"51\" y2=\"0\" style=\"stroke-width:2\" />\n",
       "  <line x1=\"80\" y1=\"70\" x2=\"121\" y2=\"70\" style=\"stroke-width:2\" />\n",
       "\n",
       "  <!-- Vertical lines -->\n",
       "  <line x1=\"10\" y1=\"0\" x2=\"80\" y2=\"70\" style=\"stroke-width:2\" />\n",
       "  <line x1=\"51\" y1=\"0\" x2=\"121\" y2=\"70\" style=\"stroke-width:2\" />\n",
       "\n",
       "  <!-- Colored Rectangle -->\n",
       "  <polygon points=\"10.000000,0.000000 51.060886,0.000000 121.649121,70.588235 80.588235,70.588235\" style=\"fill:#ECB172A0;stroke-width:0\"/>\n",
       "\n",
       "  <!-- Horizontal lines -->\n",
       "  <line x1=\"80\" y1=\"70\" x2=\"121\" y2=\"70\" style=\"stroke-width:2\" />\n",
       "  <line x1=\"80\" y1=\"107\" x2=\"121\" y2=\"107\" style=\"stroke-width:2\" />\n",
       "\n",
       "  <!-- Vertical lines -->\n",
       "  <line x1=\"80\" y1=\"70\" x2=\"80\" y2=\"107\" style=\"stroke-width:2\" />\n",
       "  <line x1=\"121\" y1=\"70\" x2=\"121\" y2=\"107\" style=\"stroke-width:2\" />\n",
       "\n",
       "  <!-- Colored Rectangle -->\n",
       "  <polygon points=\"80.588235,70.588235 121.649121,70.588235 121.649121,107.973334 80.588235,107.973334\" style=\"fill:#ECB172A0;stroke-width:0\"/>\n",
       "\n",
       "  <!-- Text -->\n",
       "  <text x=\"101.118678\" y=\"127.973334\" font-size=\"1.0rem\" font-weight=\"100\" text-anchor=\"middle\" >320</text>\n",
       "  <text x=\"141.649121\" y=\"89.280784\" font-size=\"1.0rem\" font-weight=\"100\" text-anchor=\"middle\" transform=\"rotate(-90,141.649121,89.280784)\">160</text>\n",
       "  <text x=\"35.294118\" y=\"92.679216\" font-size=\"1.0rem\" font-weight=\"100\" text-anchor=\"middle\" transform=\"rotate(45,35.294118,92.679216)\">1980</text>\n",
       "</svg>\n",
       "</td>\n",
       "</tr>\n",
       "</table>"
      ],
      "text/plain": [
       "dask.array<getitem, shape=(1980, 160, 320), dtype=float32, chunksize=(1980, 160, 320), chunktype=numpy.ndarray>"
      ]
     },
     "execution_count": 11,
     "metadata": {},
     "output_type": "execute_result"
    }
   ],
   "source": [
    "first_dataset.tas.data"
   ]
  },
  {
   "cell_type": "code",
   "execution_count": null,
   "metadata": {},
   "outputs": [],
   "source": []
  }
 ],
 "metadata": {
  "kernelspec": {
   "display_name": "CMIP6 2019.10",
   "language": "python",
   "name": "cmip6-201910"
  },
  "language_info": {
   "codemirror_mode": {
    "name": "ipython",
    "version": 3
   },
   "file_extension": ".py",
   "mimetype": "text/x-python",
   "name": "python",
   "nbconvert_exporter": "python",
   "pygments_lexer": "ipython3",
   "version": "3.7.3"
  }
 },
 "nbformat": 4,
 "nbformat_minor": 4
}
