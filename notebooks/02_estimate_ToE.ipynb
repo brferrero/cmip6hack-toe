{
 "cells": [
  {
   "cell_type": "code",
   "execution_count": 54,
   "metadata": {},
   "outputs": [],
   "source": [
    "import numpy as np\n",
    "import xarray as xr\n",
    "import statsmodels.api as sm\n",
    "import intake\n",
    "import glob\n",
    "import pandas as pd\n",
    "pd.set_option('display.max_colwidth',-1)"
   ]
  },
  {
   "cell_type": "markdown",
   "metadata": {},
   "source": [
    "Load the signal and noise datasets.  Noise is the estimates of standard deviation from piControl <code>[lon x lat]</code>. Signal is the regression coefficients that relate global mean surface temperature (T<sub>global</sub>, created following Hawkins and Sutton (2012)) to local temperature (local temperature = temperature at each gridpoint).  The regression coefficients, $\\alpha$ (slope) and $\\beta$ (intercept), have dimensions of <code>[lon x lat]</code>.  We also need to load our T<sub>global</sub> time series. "
   ]
  },
  {
   "cell_type": "code",
   "execution_count": 57,
   "metadata": {},
   "outputs": [],
   "source": [
    "fpath_hard = '/glade/u/home/chiangf/cmip6hack-toe/notebooks/'\n",
    "files_list = glob.glob(fpath_hard+'*.nc')\n",
    "#print(files_list)\n",
    "signal_load = xr.open_dataset(files_list[2])\n",
    "#print(signal_load)\n",
    "alphas = signal_load['alpha']\n",
    "betas = signal_load['beta']\n",
    "T_global = signal_load['smoothed_tas']\n",
    "time = signal_load['time']\n",
    "lat = signal_load['lat']\n",
    "lon = signal_load['lon']"
   ]
  },
  {
   "cell_type": "markdown",
   "metadata": {},
   "source": [
    "Now, load our gridded temperature data with <code>intake</code>.  We'll use BCC-CSM2-MR as our test case to be consistent with our earlier test analysis.  For now, we'll begin our predicts at the beginning of the scenario period (2015). "
   ]
  },
  {
   "cell_type": "code",
   "execution_count": 66,
   "metadata": {},
   "outputs": [],
   "source": [
    "data_list = pd.read_csv('/glade/u/home/molina/CMIP6_pathnames.csv')\n",
    "#data_list\n",
    "modelname = 'BCC-CSM2-MR'\n",
    "membername = 'r1i1p1f1'\n",
    "variable_id = 'tas'\n",
    "#\n",
    "filtereddata_list = data_list[data_list['source_id'].str.contains(modelname)]\n",
    "filtereddata_list = filtereddata_list[filtereddata_list['member_id'].str.contains(membername)]\n",
    "\n",
    "#historicalpath = filtereddata_list[filtereddata_list['experiment_id'].str.contains('historical')]['path']\n",
    "scenariopath = filtereddata_list[filtereddata_list['experiment_id'].str.contains('ssp585')]['path']\n",
    "#\n",
    "#histpathname = data_list.loc[(data_list['source_id'] == modelname)&(data_list['member_id'] == membername)&(data_list['experiment_id'] == 'historical')]\n",
    "projpathname = data_list.loc[(data_list['source_id'] == modelname)&(data_list['member_id'] == membername)&(data_list['experiment_id'] == 'ssp585')]\n",
    "#\n",
    "projds = xr.open_dataset(projpathname.path.values[0])\n",
    "scenario_time = projds['time']\n",
    "proj_temp = projds['tas']"
   ]
  },
  {
   "cell_type": "markdown",
   "metadata": {},
   "source": [
    "Remove monthly means to create projected temp anomalies"
   ]
  },
  {
   "cell_type": "code",
   "execution_count": 68,
   "metadata": {},
   "outputs": [
    {
     "data": {
      "text/plain": [
       "(1032, 160, 320)"
      ]
     },
     "execution_count": 68,
     "metadata": {},
     "output_type": "execute_result"
    }
   ],
   "source": [
    "#find the monthly climatology for each pixel\n",
    "monthly_clim = proj_temp.groupby('time.month').mean()\n",
    "#subtract the local monthly climatology\n",
    "demonthlied_data = proj_temp.groupby('time.month') - monthly_clim"
   ]
  },
  {
   "cell_type": "code",
   "execution_count": 74,
   "metadata": {},
   "outputs": [
    {
     "data": {
      "text/plain": [
       "[<matplotlib.lines.Line2D at 0x2b2c4be4cef0>]"
      ]
     },
     "execution_count": 74,
     "metadata": {},
     "output_type": "execute_result"
    },
    {
     "data": {
      "image/png": "[encoded data removed]",
      "text/plain": [
       "<Figure size 432x288 with 1 Axes>"
      ]
     },
     "metadata": {
      "needs_background": "light"
     },
     "output_type": "display_data"
    }
   ],
   "source": [
    "demonthlied_data.mean(dim=['lat','lon']).plot() #plot of global mean projected T anomalies"
   ]
  },
  {
   "cell_type": "markdown",
   "metadata": {},
   "source": [
    "Okay, now that we've loaded the data, we can actually make our ToE predictions at each gridpoint.  We'll use statsmodels for this step. We want to predict our local temperature trend at each grid point--that is, how much of the local temperature trend can be explained by our global mean surface temperature trend? "
   ]
  },
  {
   "cell_type": "code",
   "execution_count": 109,
   "metadata": {},
   "outputs": [
    {
     "name": "stdout",
     "output_type": "stream",
     "text": [
      "[[ 1.         -1.94110107]\n",
      " [ 1.          1.62060547]\n",
      " [ 1.         -1.20555115]\n",
      " ...\n",
      " [ 1.          0.61483765]\n",
      " [ 1.         -1.28086853]\n",
      " [ 1.          4.70748901]]\n",
      "[array(-3.27351481e-06), array(1.15682565)]\n"
     ]
    },
    {
     "ename": "AttributeError",
     "evalue": "'list' object has no attribute 'predict'",
     "output_type": "error",
     "traceback": [
      "\u001b[0;31m---------------------------------------------------------------------------\u001b[0m",
      "\u001b[0;31mAttributeError\u001b[0m                            Traceback (most recent call last)",
      "\u001b[0;32m<ipython-input-109-78774d7a26bf>\u001b[0m in \u001b[0;36m<module>\u001b[0;34m\u001b[0m\n\u001b[1;32m      5\u001b[0m \u001b[0mols_model\u001b[0m \u001b[0;34m=\u001b[0m \u001b[0;34m[\u001b[0m\u001b[0malphas\u001b[0m\u001b[0;34m[\u001b[0m\u001b[0mi\u001b[0m\u001b[0;34m,\u001b[0m\u001b[0mj\u001b[0m\u001b[0;34m]\u001b[0m\u001b[0;34m.\u001b[0m\u001b[0mvalues\u001b[0m\u001b[0;34m,\u001b[0m\u001b[0mbetas\u001b[0m\u001b[0;34m[\u001b[0m\u001b[0mi\u001b[0m\u001b[0;34m,\u001b[0m\u001b[0mj\u001b[0m\u001b[0;34m]\u001b[0m\u001b[0;34m.\u001b[0m\u001b[0mvalues\u001b[0m\u001b[0;34m]\u001b[0m\u001b[0;34m\u001b[0m\u001b[0;34m\u001b[0m\u001b[0m\n\u001b[1;32m      6\u001b[0m \u001b[0mprint\u001b[0m\u001b[0;34m(\u001b[0m\u001b[0mols_model\u001b[0m\u001b[0;34m)\u001b[0m\u001b[0;34m\u001b[0m\u001b[0;34m\u001b[0m\u001b[0m\n\u001b[0;32m----> 7\u001b[0;31m \u001b[0mT_predict\u001b[0m \u001b[0;34m=\u001b[0m \u001b[0mols_model\u001b[0m\u001b[0;34m.\u001b[0m\u001b[0mpredict\u001b[0m\u001b[0;34m(\u001b[0m\u001b[0mdemonthlied_data_to_predict\u001b[0m\u001b[0;34m)\u001b[0m\u001b[0;34m\u001b[0m\u001b[0;34m\u001b[0m\u001b[0m\n\u001b[0m",
      "\u001b[0;31mAttributeError\u001b[0m: 'list' object has no attribute 'predict'"
     ]
    }
   ],
   "source": [
    "i = 10\n",
    "j = 50\n",
    "demonthlied_data_to_predict = sm.add_constant(demonthlied_data[:,i,j])\n",
    "print(demonthlied_data_to_predict)\n",
    "ols_model = [alphas[i,j].values,betas[i,j].values]\n",
    "print(ols_model)\n",
    "T_predict = ols_model.predict(demonthlied_data_to_predict)"
   ]
  },
  {
   "cell_type": "markdown",
   "metadata": {},
   "source": [
    "Now that we have our predictions, we can see that they have dimensions of <code>[lon,lat,time]</code>. We used our regression coefficients to make linear predictions of how temperature changes in time at each gridpoint.  Now, we want to know how these temperature predictions compare to internal variability--when can we say that these temperature anomalies are so extreme that they are not within the bounds of internal variability? This is the first part of our fundamental science question. <br>\n",
    "<br>\n",
    "We calculate a signal to noise ratio--we simply divide our local temperature predictions by our noise. Our output will have dimensions of <code>[lon x lat x time]</code>. "
   ]
  },
  {
   "cell_type": "code",
   "execution_count": null,
   "metadata": {},
   "outputs": [],
   "source": []
  },
  {
   "cell_type": "markdown",
   "metadata": {},
   "source": [
    "So now we have a signal to noise ratio.  We are ready to estimate time of emergence.  We decide that <b> time of emergence </b> is the first year in which some signal-to-noise ratio exceeds a threshold that we set.  We estimate this first year for each gridpoint, which provides an output array with dimensions of <code>[lon x lat]</code>.  The values in the ToE array will be in units of years. "
   ]
  },
  {
   "cell_type": "code",
   "execution_count": null,
   "metadata": {},
   "outputs": [],
   "source": []
  },
  {
   "cell_type": "markdown",
   "metadata": {},
   "source": [
    "Finally, we can plot the time of emergence as a function of gridpoint. "
   ]
  },
  {
   "cell_type": "code",
   "execution_count": null,
   "metadata": {},
   "outputs": [],
   "source": []
  }
 ],
 "metadata": {
  "kernelspec": {
   "display_name": "CMIP6 2019.10a",
   "language": "python",
   "name": "cmip6-201910a"
  },
  "language_info": {
   "codemirror_mode": {
    "name": "ipython",
    "version": 3
   },
   "file_extension": ".py",
   "mimetype": "text/x-python",
   "name": "python",
   "nbconvert_exporter": "python",
   "pygments_lexer": "ipython3",
   "version": "3.7.3"
  }
 },
 "nbformat": 4,
 "nbformat_minor": 4
}
