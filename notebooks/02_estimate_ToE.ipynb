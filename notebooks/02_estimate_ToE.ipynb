{
 "cells": [
  {
   "cell_type": "code",
   "execution_count": 3,
   "metadata": {},
   "outputs": [],
   "source": [
    "import numpy as np\n",
    "import xarray as xr\n",
    "import statsmodels.api as sm"
   ]
  },
  {
   "cell_type": "markdown",
   "metadata": {},
   "source": [
    "Load the signal and noise datasets.  Noise is the estimates of standard deviation from piControl <code>[lon x lat]</code>. Signal is the regression coefficients that relate global mean surface temperature (T<sub>global</sub>, created following Hawkins and Sutton (2012)) to local temperature (local temperature = temperature at each gridpoint).  The regression coefficients, $\\alpha$ (slope) and $\\beta$ (intercept), have dimensions of <code>[lon x lat]</code>.  We also need to load our T<sub>global</sub> time series. "
   ]
  },
  {
   "cell_type": "code",
   "execution_count": null,
   "metadata": {},
   "outputs": [],
   "source": []
  },
  {
   "cell_type": "markdown",
   "metadata": {},
   "source": [
    "Okay, now that we've loaded the data, we can actually make our ToE predictions at each gridpoint.  We'll use statsmodels for this step. We want to predict our local temperature trend at each grid point--that is, how much of the local temperature trend can be explained by our global mean surface temperature trend? "
   ]
  },
  {
   "cell_type": "code",
   "execution_count": null,
   "metadata": {},
   "outputs": [],
   "source": []
  },
  {
   "cell_type": "markdown",
   "metadata": {},
   "source": [
    "Now that we have our predictions, we can see that they have dimensions of <code>[lon,lat,time]</code>. We used our regression coefficients to make linear predictions of how temperature changes in time at each gridpoint.  Now, we want to know how these temperature predictions compare to internal variability--when can we say that these temperature anomalies are so extreme that they are not within the bounds of internal variability? This is the first part of our fundamental science question. <br>\n",
    "<br>\n",
    "We calculate a signal to noise ratio--we simply divide our local temperature predictions by our noise. Our output will have dimensions of <code>[lon x lat x time]</code>. "
   ]
  },
  {
   "cell_type": "code",
   "execution_count": null,
   "metadata": {},
   "outputs": [],
   "source": []
  },
  {
   "cell_type": "markdown",
   "metadata": {},
   "source": [
    "So now we have a signal to noise ratio.  We are ready to estimate time of emergence.  We decide that <b> time of emergence </b> is the first year in which some signal-to-noise ratio exceeds a threshold that we set.  We estimate this first year for each gridpoint, which provides an output array with dimensions of <code>[lon x lat]</code>.  The values in the ToE array will be in units of years. "
   ]
  },
  {
   "cell_type": "code",
   "execution_count": null,
   "metadata": {},
   "outputs": [],
   "source": []
  },
  {
   "cell_type": "markdown",
   "metadata": {},
   "source": [
    "Finally, we can plot the time of emergence as a function of gridpoint. "
   ]
  },
  {
   "cell_type": "code",
   "execution_count": null,
   "metadata": {},
   "outputs": [],
   "source": []
  }
 ],
 "metadata": {
  "kernelspec": {
   "display_name": "CMIP6 2019.10a",
   "language": "python",
   "name": "cmip6-201910a"
  },
  "language_info": {
   "codemirror_mode": {
    "name": "ipython",
    "version": 3
   },
   "file_extension": ".py",
   "mimetype": "text/x-python",
   "name": "python",
   "nbconvert_exporter": "python",
   "pygments_lexer": "ipython3",
   "version": "3.7.3"
  }
 },
 "nbformat": 4,
 "nbformat_minor": 4
}
