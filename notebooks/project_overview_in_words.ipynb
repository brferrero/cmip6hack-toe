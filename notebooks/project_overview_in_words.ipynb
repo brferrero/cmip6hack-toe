{
 "cells": [
  {
   "cell_type": "markdown",
   "metadata": {},
   "source": [
    "MAIN QUESTION: What is the time of emergence for anthropogenic climate change, and what is the uncertainty on this estimate?<br>\n",
    "--In which year does the signal exceed the noise?<br>\n",
    "--How much does this year vary for different climate models?<br>\n",
    "----In each model, we have variability in the SIGNAL (how the model simulates climate change) <br>\n",
    "----We also have variability in the NOISE (how the model simulates natural variability)"
   ]
  },
  {
   "cell_type": "markdown",
   "metadata": {},
   "source": [
    "GOALS: <br>\n",
    "1) Calculate the time of emergence (ToE) of surface air temperature (tas) for each CMIP6 climate model (when does the signal exceed the noise for each model?) <br>\n",
    "2) Compare ToE across all climate models (how much does ToE vary for each model?) <br>\n",
    "3) What is the spatial variabaility of ToE? <br>"
   ]
  },
  {
   "cell_type": "markdown",
   "metadata": {},
   "source": [
    "EXPECTED RESULTS: <br>\n",
    "1) ToE will vary by multiple decades across different CMIP6 models <br>\n",
    "2) Generally, ToE will be earliest in the tropics, since the noise is relatively low here <br>\n",
    "3) Generally, ToE will be intermediate in the high latitudes, since the signal is very strong <br>\n",
    "4) Generally, ToE will be latest in the extratropics, since the noise is very high and the signal is not as clear as the poles <br>"
   ]
  },
  {
   "cell_type": "markdown",
   "metadata": {},
   "source": [
    "HOW DO WE DO THIS ANALYSIS? <br>\n",
    "Following Hawkins and Sutton (2012), we make two basic calculations: <br>\n",
    "1) <b> noise: </b> We calculate noise by estimating the standard deviation of tas in the piControl (pre-industrial control) simulation, which we call $$\\sigma$$.  This simulation should estimate natural variability in the absence of anthropogenic forcing. This should be a function of latitude and longitude (i.e., $$\\sigma$$ will vary in space) <br>\n",
    "2) <b> signal: </b> We estimate the signal using a simple linear regression.  We create a smoothed global average tas time series (T<sub>global</sub>), and we regress this on our temperature at each gridpoint. We are assuming that T<sub>global</sub> is a good representation of anthropogenic warming. The idea is that the regression will estimate the fraction of local tas (temperature at that gridpoint) that can be explained by T<sub>global</sub>--that is, how much of the temperature trend over time at that gridpoint can be explained by T<sub>global</sub>? <br>\n",
    "Mathematically, our regression looks like this: \n",
    "$$S(t) = \\alpha T_{global}(t) + \\beta$$ <br>\n",
    "So, we create our <b>signal</b> (S), which is a function of time, and we use it to predict a temperature time series at each gridpoint [lon x lat x time].  We then compare this estimate to the <b> noise </b> ([lon x lat]), and we determine the time at which $$\\frac{signal}{noise}$$ exceeds some threshold. This is our <b> time of emergence </b>."
   ]
  },
  {
   "cell_type": "markdown",
   "metadata": {},
   "source": [
    "RESULTS FIGURES<br>\n",
    "1) For each model, we want to produce a [lon x lat] estimate of <b> time of emergence </b> <br>\n",
    "2) After we have computed <b> ToE </b> for each model, we can estimate some sort of average <b> ToE </b> across our ensemble (HS12 use median). This plot will also be a [lon x lat] plot. We can also estimate lower and upper bounds on this estimate (10th/90th or 5th/95th percentiles?), again in [lon x lat] <br>\n",
    "OPTIONAL <br>\n",
    "HS12 do some analysis where they average over a few boxes to simplify. We could do something like that (maybe look at zonal mean time of emergence?) "
   ]
  },
  {
   "cell_type": "markdown",
   "metadata": {},
   "source": [
    "PROCESS FIGURES <br>\n",
    "1) <b> noise </b>: for each model, we should have a [lon x lat] plot of <b> noise </b>. <br>\n",
    "2) <b> signal</b>: for each model, we should have a time series of T<sub>global</sub>. We should also include the uncertainty estimates for T<sub>global</sub> (can discuss the best way to do this) <br>\n",
    "3) <b> regression coefficients</b>: for each model, we should have [lon x lat] plots of $$\\alpha$$ and $$\\beta$$ (regression coeff + residuals)\n"
   ]
  },
  {
   "cell_type": "markdown",
   "metadata": {},
   "source": [
    "EXPERIMENTS: which CMIP6 experiments do we need? <br>\n",
    "1) <b> piControl </b>: very long simulation without anthropogenic forcing intended to provide enough data for statistically robust assessments of natural variability.  Used to estimate <b> noise </b> <br>\n",
    "2) <b> historical </b>: simulations of the recent (20th century, typically) past forcing with our best estimates of observed GHG/anthropogenic forcing.  Used to estimate <b> signal </b> <br>\n",
    "3) <b> ssp585 </b>: some simulation of future climate state (here, we use the highest forcing scenario, comparable to CMIP5's RCP8.5).  We note that one could use a different set of transient simulations, such as the 1% CO2 simulations. USed to estimate <b> signal </b>. <br>"
   ]
  },
  {
   "cell_type": "markdown",
   "metadata": {},
   "source": [
    "VARIABLES: which variables do we need, and what are their dimensions?<br>\n",
    "<i> tas </i> [lon x lat x time]: from <b> piControl</b>, <b> historical</b>, <b> ssp585</b> <br>\n",
    "Time resolution: monthly means are sufficient for reproducing HS12. "
   ]
  },
  {
   "cell_type": "markdown",
   "metadata": {},
   "source": [
    "SCIENCE-DIRECTED EXPERIMENTAL DESIGN QUESTIONS? <br>\n",
    "<i> Here, we list some of the experimental design decisions (beyond obvious things like variable choice) that one might want to modify for different science experiments. We note that most of these questions are formulated with typical geospatial space-time datasets in mind. </i> <br>\n",
    "1a) What time resolution do we need to adequately represent the processes we care about? <br>\n",
    "1b) What's the best way to remove periodic variability (e.g., diurnal, seasonal cycles) from the data, and how might this change with our time resolution? <br>\n",
    "2) What spatial resolution do we need? Do we need to regrid our data? How should we regrid it? <br>\n",
    "3) What's the optimal signal to noise ratio for our scientific needs? <br>\n",
    "4) What is the best way to smooth our data? (<i> HS12 fit global mean T anomalies with a 4th order polynomial, but this process would almost certainly look different for different variables</i>) <br>\n",
    "5) What's the best way to visualize, simplify, and summarize our results? <br> "
   ]
  },
  {
   "cell_type": "markdown",
   "metadata": {},
   "source": [
    "References: Hawkins, E and R Sutton (2012): Time of emergence of climate signals. <i> Geophys. Res. Lett., </i> <b>GL050087</b>. "
   ]
  },
  {
   "cell_type": "code",
   "execution_count": null,
   "metadata": {},
   "outputs": [],
   "source": []
  }
 ],
 "metadata": {
  "kernelspec": {
   "display_name": "Python 3",
   "language": "python",
   "name": "python3"
  },
  "language_info": {
   "codemirror_mode": {
    "name": "ipython",
    "version": 3
   },
   "file_extension": ".py",
   "mimetype": "text/x-python",
   "name": "python",
   "nbconvert_exporter": "python",
   "pygments_lexer": "ipython3",
   "version": "3.7.3"
  }
 },
 "nbformat": 4,
 "nbformat_minor": 4
}
