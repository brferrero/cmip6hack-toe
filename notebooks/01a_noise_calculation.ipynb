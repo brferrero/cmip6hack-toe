{
 "cells": [
  {
   "cell_type": "markdown",
   "metadata": {},
   "source": [
    "# Loading CMIP6 data and detrend on a monthly basis."
   ]
  },
  {
   "cell_type": "markdown",
   "metadata": {},
   "source": [
    "Imports"
   ]
  },
  {
   "cell_type": "code",
   "execution_count": 10,
   "metadata": {},
   "outputs": [],
   "source": [
    "%matplotlib inline\n",
    "import pandas as pd\n",
    "import xarray as xr"
   ]
  },
  {
   "cell_type": "markdown",
   "metadata": {},
   "source": [
    "Read in the previously saved list of paths and files from ``00_find_data.ipynb``."
   ]
  },
  {
   "cell_type": "code",
   "execution_count": 2,
   "metadata": {},
   "outputs": [],
   "source": [
    "data_list = pd.read_csv('/glade/scratch/molina/CMIP6_pathnames.csv')"
   ]
  },
  {
   "cell_type": "markdown",
   "metadata": {},
   "source": [
    "Check path for a piControl"
   ]
  },
  {
   "cell_type": "code",
   "execution_count": 24,
   "metadata": {},
   "outputs": [
    {
     "data": {
      "text/plain": [
       "'/glade/collections/cmip/CMIP6/CMIP/BCC/BCC-CSM2-MR/piControl/r1i1p1f1/Amon/tas/gn/v20181016/tas/tas_Amon_BCC-CSM2-MR_piControl_r1i1p1f1_gn_185001-244912.nc'"
      ]
     },
     "execution_count": 24,
     "metadata": {},
     "output_type": "execute_result"
    }
   ],
   "source": [
    "data_list.path[3]"
   ]
  },
  {
   "cell_type": "markdown",
   "metadata": {},
   "source": [
    "load piControl data into xarray dataset "
   ]
  },
  {
   "cell_type": "code",
   "execution_count": 25,
   "metadata": {},
   "outputs": [],
   "source": [
    "first_data = xr.open_dataset(data_list.path[3])"
   ]
  },
  {
   "cell_type": "markdown",
   "metadata": {},
   "source": [
    "Check metadata"
   ]
  },
  {
   "cell_type": "code",
   "execution_count": 26,
   "metadata": {},
   "outputs": [
    {
     "data": {
      "text/plain": [
       "<xarray.Dataset>\n",
       "Dimensions:    (bnds: 2, lat: 160, lon: 320, time: 7200)\n",
       "Coordinates:\n",
       "  * time       (time) object 1850-01-16 12:00:00 ... 2449-12-16 12:00:00\n",
       "  * lat        (lat) float64 -89.14 -88.03 -86.91 -85.79 ... 86.91 88.03 89.14\n",
       "  * lon        (lon) float64 0.0 1.125 2.25 3.375 ... 355.5 356.6 357.8 358.9\n",
       "    height     float64 ...\n",
       "Dimensions without coordinates: bnds\n",
       "Data variables:\n",
       "    time_bnds  (time, bnds) object ...\n",
       "    lat_bnds   (lat, bnds) float64 ...\n",
       "    lon_bnds   (lon, bnds) float64 ...\n",
       "    tas        (time, lat, lon) float32 ...\n",
       "Attributes:\n",
       "    Conventions:            CF-1.7 CMIP-6.2\n",
       "    activity_id:            CMIP\n",
       "    branch_method:          standard\n",
       "    branch_time_in_child:   0.0\n",
       "    branch_time_in_parent:  0.0\n",
       "    comment:                The coupled model starts from model state after 3...\n",
       "    contact:                Dr. Tongwen Wu (twwu@cma.gov.cn)\n",
       "    creation_date:          2018-10-16T02:24:49Z\n",
       "    data_specs_version:     01.00.27\n",
       "    description:            DECK: piControl\n",
       "    experiment:             pre-industrial control\n",
       "    experiment_id:          piControl\n",
       "    external_variables:     areacella\n",
       "    forcing_index:          1\n",
       "    frequency:              mon\n",
       "    further_info_url:       https://furtherinfo.es-doc.org/CMIP6.BCC.BCC-CSM2...\n",
       "    grid:                   T106\n",
       "    grid_label:             gn\n",
       "    history:                2018-10-16T02:24:49Z ; CMOR rewrote data to be co...\n",
       "    initialization_index:   1\n",
       "    institution:            Beijing Climate Center, Beijing 100081, China\n",
       "    institution_id:         BCC\n",
       "    mip_era:                CMIP6\n",
       "    nominal_resolution:     100 km\n",
       "    parent_activity_id:     CMIP\n",
       "    parent_experiment_id:   piControl-spinup\n",
       "    parent_mip_era:         CMIP6\n",
       "    parent_source_id:       BCC-CSM2-MR\n",
       "    parent_time_units:      days since 1850-01-01\n",
       "    parent_variant_label:   r1i1p1f1\n",
       "    physics_index:          1\n",
       "    product:                model-output\n",
       "    realization_index:      1\n",
       "    realm:                  atmos\n",
       "    references:             Model described by Tongwen Wu et al. (JGR 2013; J...\n",
       "    run_variant:            forcing: N/A\n",
       "    source:                 BCC-CSM 2 MR (2017): \\naerosol: none\\natmos: BCC_...\n",
       "    source_id:              BCC-CSM2-MR\n",
       "    source_type:            AOGCM\n",
       "    sub_experiment:         none\n",
       "    sub_experiment_id:      none\n",
       "    table_id:               Amon\n",
       "    table_info:             Creation Date:(30 July 2018) MD5:fa9bc503f57fb067...\n",
       "    title:                  BCC-CSM2-MR output prepared for CMIP6\n",
       "    tracking_id:            hdl:21.14100/e15b4e04-13d4-4a3a-a050-33564e99d873\n",
       "    variable_id:            tas\n",
       "    variant_label:          r1i1p1f1\n",
       "    license:                CMIP6 model data produced by BCC is licensed unde...\n",
       "    cmor_version:           3.3.2"
      ]
     },
     "execution_count": 26,
     "metadata": {},
     "output_type": "execute_result"
    }
   ],
   "source": [
    "first_data"
   ]
  },
  {
   "cell_type": "markdown",
   "metadata": {},
   "source": [
    "check the time series of the data quickly"
   ]
  },
  {
   "cell_type": "code",
   "execution_count": 28,
   "metadata": {},
   "outputs": [
    {
     "data": {
      "text/plain": [
       "[<matplotlib.lines.Line2D at 0x2b52ebd91cf8>]"
      ]
     },
     "execution_count": 28,
     "metadata": {},
     "output_type": "execute_result"
    },
    {
     "data": {
      "image/png": "[encoded data removed]",
      "text/plain": [
       "<Figure size 432x288 with 1 Axes>"
      ]
     },
     "metadata": {
      "needs_background": "light"
     },
     "output_type": "display_data"
    }
   ],
   "source": [
    "first_data['tas'].mean(dim=['lat','lon']).plot()"
   ]
  },
  {
   "cell_type": "markdown",
   "metadata": {},
   "source": [
    "Compute the monthly means for each grid cell."
   ]
  },
  {
   "cell_type": "code",
   "execution_count": 5,
   "metadata": {},
   "outputs": [],
   "source": [
    "monthly_climo = first_data['tas'].groupby('time.month').mean()"
   ]
  },
  {
   "cell_type": "markdown",
   "metadata": {},
   "source": [
    "check computation"
   ]
  },
  {
   "cell_type": "code",
   "execution_count": 6,
   "metadata": {},
   "outputs": [
    {
     "data": {
      "text/plain": [
       "<xarray.DataArray 'tas' (month: 12, lat: 160, lon: 320)>\n",
       "array([[[246.46318, 246.44609, 246.42638, ..., 246.52141, 246.50377,\n",
       "         246.48366],\n",
       "        [247.2308 , 247.1838 , 247.13622, ..., 247.37428, 247.32568,\n",
       "         247.27876],\n",
       "        [247.76039, 247.68404, 247.60968, ..., 247.99704, 247.91534,\n",
       "         247.83847],\n",
       "        ...,\n",
       "        [241.78117, 241.80714, 241.8468 , ..., 241.67462, 241.70088,\n",
       "         241.74919],\n",
       "        [241.64143, 241.6654 , 241.70596, ..., 241.57912, 241.60379,\n",
       "         241.6245 ],\n",
       "        [241.49205, 241.52086, 241.55045, ..., 241.48918, 241.48901,\n",
       "         241.48892]],\n",
       "\n",
       "       [[236.15422, 236.12286, 236.09662, ..., 236.23705, 236.20892,\n",
       "         236.1808 ],\n",
       "        [237.06494, 237.00374, 236.93785, ..., 237.24892, 237.18826,\n",
       "         237.12709],\n",
       "        [237.71695, 237.61186, 237.5037 , ..., 238.03821, 237.93509,\n",
       "         237.82372],\n",
       "        ...,\n",
       "        [241.02356, 241.05215, 241.09435, ..., 240.91505, 240.94006,\n",
       "         240.98793],\n",
       "        [240.91316, 240.93935, 240.98393, ..., 240.84834, 240.87398,\n",
       "         240.89552],\n",
       "        [240.73683, 240.76657, 240.79701, ..., 240.7343 , 240.73395,\n",
       "         240.73381]],\n",
       "\n",
       "       [[225.08537, 225.03688, 224.99956, ..., 225.20193, 225.16425,\n",
       "         225.11784],\n",
       "        [226.19449, 226.1099 , 226.01851, ..., 226.44604, 226.36101,\n",
       "         226.28012],\n",
       "        [226.8804 , 226.74004, 226.59193, ..., 227.31137, 227.17903,\n",
       "         227.02348],\n",
       "        ...,\n",
       "        [242.27043, 242.29727, 242.33482, ..., 242.18605, 242.20197,\n",
       "         242.23643],\n",
       "        [242.26553, 242.29108, 242.33365, ..., 242.20052, 242.2259 ,\n",
       "         242.24756],\n",
       "        [242.15675, 242.18565, 242.21562, ..., 242.15416, 242.1539 ,\n",
       "         242.15363]],\n",
       "\n",
       "       ...,\n",
       "\n",
       "       [[227.117  , 227.07498, 227.03845, ..., 227.2314 , 227.19788,\n",
       "         227.15904],\n",
       "        [228.19455, 228.10211, 228.0194 , ..., 228.4611 , 228.37505,\n",
       "         228.2822 ],\n",
       "        [228.80069, 228.6538 , 228.5149 , ..., 229.25845, 229.09842,\n",
       "         228.94917],\n",
       "        ...,\n",
       "        [254.89203, 254.89969, 254.91122, ..., 254.8629 , 254.86946,\n",
       "         254.88225],\n",
       "        [254.82504, 254.83263, 254.84557, ..., 254.80798, 254.81453,\n",
       "         254.82031],\n",
       "        [254.77954, 254.78734, 254.79538, ..., 254.77898, 254.7789 ,\n",
       "         254.77884]],\n",
       "\n",
       "       [[238.57599, 238.55408, 238.52661, ..., 238.65596, 238.63272,\n",
       "         238.60779],\n",
       "        [239.29108, 239.22737, 239.16724, ..., 239.48724, 239.4215 ,\n",
       "         239.35522],\n",
       "        [239.83366, 239.73108, 239.63696, ..., 240.1545 , 240.03859,\n",
       "         239.93663],\n",
       "        ...,\n",
       "        [247.57753, 247.59065, 247.60718, ..., 247.5295 , 247.5388 ,\n",
       "         247.55914],\n",
       "        [247.43721, 247.4511 , 247.47533, ..., 247.40999, 247.42093,\n",
       "         247.42987],\n",
       "        [247.34447, 247.35715, 247.37016, ..., 247.34346, 247.3433 ,\n",
       "         247.34314]],\n",
       "\n",
       "       [[247.34479, 247.3312 , 247.31004, ..., 247.40184, 247.38564,\n",
       "         247.36754],\n",
       "        [248.15152, 248.10358, 248.05885, ..., 248.29648, 248.24832,\n",
       "         248.1994 ],\n",
       "        [248.72084, 248.64482, 248.57487, ..., 248.95686, 248.87007,\n",
       "         248.79683],\n",
       "        ...,\n",
       "        [243.92758, 243.94966, 243.98177, ..., 243.83885, 243.85963,\n",
       "         243.89946],\n",
       "        [243.77553, 243.79619, 243.83177, ..., 243.72893, 243.74756,\n",
       "         243.76288],\n",
       "        [243.63324, 243.65488, 243.67711, ..., 243.63135, 243.6312 ,\n",
       "         243.631  ]]], dtype=float32)\n",
       "Coordinates:\n",
       "  * lat      (lat) float64 -89.14 -88.03 -86.91 -85.79 ... 86.91 88.03 89.14\n",
       "  * lon      (lon) float64 0.0 1.125 2.25 3.375 4.5 ... 355.5 356.6 357.8 358.9\n",
       "    height   float64 ...\n",
       "  * month    (month) int64 1 2 3 4 5 6 7 8 9 10 11 12"
      ]
     },
     "execution_count": 6,
     "metadata": {},
     "output_type": "execute_result"
    }
   ],
   "source": [
    "monthly_climo"
   ]
  },
  {
   "cell_type": "markdown",
   "metadata": {},
   "source": [
    "compute anomalies, removal of monthly mean signal"
   ]
  },
  {
   "cell_type": "code",
   "execution_count": 31,
   "metadata": {},
   "outputs": [],
   "source": [
    "demonthlied_data = first_data['tas'].groupby('time.month') - monthly_climo"
   ]
  },
  {
   "cell_type": "markdown",
   "metadata": {},
   "source": [
    "Check data"
   ]
  },
  {
   "cell_type": "code",
   "execution_count": 32,
   "metadata": {},
   "outputs": [
    {
     "data": {
      "text/plain": [
       "<xarray.DataArray 'tas' (time: 7200, lat: 160, lon: 320)>\n",
       "array([[[-0.05981445, -0.06990051, -0.06048584, ..., -0.05508423,\n",
       "         -0.05447388, -0.05430603],\n",
       "        [-0.3087921 , -0.32019043, -0.33610535, ..., -0.27249146,\n",
       "         -0.28196716, -0.29637146],\n",
       "        [-0.92129517, -0.93084717, -0.95777893, ..., -0.83036804,\n",
       "         -0.8591919 , -0.8952637 ],\n",
       "        ...,\n",
       "        [-3.2126465 , -3.2257996 , -3.2425232 , ..., -3.1344452 ,\n",
       "         -3.1564178 , -3.1940765 ],\n",
       "        [-3.025177  , -3.0394745 , -3.0628815 , ..., -2.9753418 ,\n",
       "         -2.9956665 , -3.0119934 ],\n",
       "        [-2.9049225 , -2.9290009 , -2.953476  , ..., -2.901657  ,\n",
       "         -2.9018097 , -2.9020386 ]],\n",
       "\n",
       "       [[-1.9471741 , -1.9431305 , -1.9595184 , ..., -1.9032898 ,\n",
       "         -1.9018555 , -1.9338531 ],\n",
       "        [-2.7069397 , -2.716034  , -2.7570953 , ..., -2.6328278 ,\n",
       "         -2.659134  , -2.6813202 ],\n",
       "        [-3.3195038 , -3.3979187 , -3.4315796 , ..., -3.2280426 ,\n",
       "         -3.2957    , -3.2936707 ],\n",
       "        ...,\n",
       "        [-2.4078827 , -2.4267273 , -2.469574  , ..., -2.2522583 ,\n",
       "         -2.3053284 , -2.3884583 ],\n",
       "        [-1.7734985 , -1.7891693 , -1.8150787 , ..., -1.7064819 ,\n",
       "         -1.7331543 , -1.7556458 ],\n",
       "        [-1.3251495 , -1.3608093 , -1.3970032 , ..., -1.32164   ,\n",
       "         -1.3213959 , -1.3213654 ]],\n",
       "\n",
       "       [[-1.1834412 , -1.1747894 , -1.2593384 , ..., -1.2172546 ,\n",
       "         -1.2574005 , -1.2657013 ],\n",
       "        [-1.5218201 , -1.520935  , -1.5491638 , ..., -1.4667206 ,\n",
       "         -1.4469604 , -1.4952393 ],\n",
       "        [-2.004715  , -2.0433197 , -2.077011  , ..., -1.9237823 ,\n",
       "         -1.9696198 , -1.9712982 ],\n",
       "        ...,\n",
       "        [ 1.5825958 ,  1.6187286 ,  1.7148438 , ...,  1.3727875 ,\n",
       "          1.4420013 ,  1.5534058 ],\n",
       "        [ 0.62835693,  0.6534729 ,  0.6985321 , ...,  0.56866455,\n",
       "          0.59236145,  0.6123352 ],\n",
       "        [ 0.43304443,  0.46495056,  0.49772644, ...,  0.42785645,\n",
       "          0.42843628,  0.42903137]],\n",
       "\n",
       "       ...,\n",
       "\n",
       "       [[-4.821457  , -4.8459167 , -4.8273315 , ..., -4.770294  ,\n",
       "         -4.794815  , -4.824585  ],\n",
       "        [-5.4728394 , -5.4769745 , -5.5176544 , ..., -5.4376984 ,\n",
       "         -5.3999023 , -5.4660645 ],\n",
       "        [-6.1844025 , -6.200165  , -6.248764  , ..., -6.0752716 ,\n",
       "         -6.122452  , -6.1473236 ],\n",
       "        ...,\n",
       "        [-2.0646515 , -2.0697021 , -2.080124  , ..., -2.0310822 ,\n",
       "         -2.0440521 , -2.061386  ],\n",
       "        [-2.4083557 , -2.4096222 , -2.4103394 , ..., -2.4030762 ,\n",
       "         -2.4036102 , -2.4060822 ],\n",
       "        [-2.3973541 , -2.3979645 , -2.3983307 , ..., -2.399063  ,\n",
       "         -2.3984833 , -2.3979187 ]],\n",
       "\n",
       "       [[-1.1513519 , -1.2187347 , -1.1506348 , ..., -1.0663605 ,\n",
       "         -1.1646118 , -1.0825958 ],\n",
       "        [-1.0241852 , -1.013443  , -1.0116577 , ..., -1.021698  ,\n",
       "         -1.0233307 , -1.0158844 ],\n",
       "        [-0.96585083, -0.9594879 , -0.9585571 , ..., -0.98869324,\n",
       "         -0.97709656, -0.96803284],\n",
       "        ...,\n",
       "        [-1.1136627 , -1.118515  , -1.108429  , ..., -1.1030884 ,\n",
       "         -1.1004791 , -1.1004028 ],\n",
       "        [-1.631897  , -1.6453705 , -1.6630096 , ..., -1.5737762 ,\n",
       "         -1.5948181 , -1.6147308 ],\n",
       "        [-2.1819763 , -2.2051697 , -2.229065  , ..., -2.1760101 ,\n",
       "         -2.1771698 , -2.178299  ]],\n",
       "\n",
       "       [[ 0.2949524 ,  0.27674866,  0.28179932, ...,  0.31323242,\n",
       "          0.2953949 ,  0.29301453],\n",
       "        [ 0.10119629,  0.09410095,  0.08361816, ...,  0.1354065 ,\n",
       "          0.12391663,  0.11521912],\n",
       "        [-0.22695923, -0.25024414, -0.27626038, ..., -0.15924072,\n",
       "         -0.17767334, -0.20149231],\n",
       "        ...,\n",
       "        [-2.7855377 , -2.7193604 , -2.596695  , ..., -3.0831146 ,\n",
       "         -2.998886  , -2.856186  ],\n",
       "        [-3.1281433 , -3.0770874 , -2.9911957 , ..., -3.27977   ,\n",
       "         -3.219513  , -3.1692352 ],\n",
       "        [-3.3882904 , -3.315689  , -3.2409973 , ..., -3.3982544 ,\n",
       "         -3.3976593 , -3.3970337 ]]], dtype=float32)\n",
       "Coordinates:\n",
       "    height   float64 ...\n",
       "  * lat      (lat) float64 -89.14 -88.03 -86.91 -85.79 ... 86.91 88.03 89.14\n",
       "  * lon      (lon) float64 0.0 1.125 2.25 3.375 4.5 ... 355.5 356.6 357.8 358.9\n",
       "  * time     (time) object 1850-01-16 12:00:00 ... 2449-12-16 12:00:00\n",
       "    month    (time) int64 1 2 3 4 5 6 7 8 9 10 11 ... 2 3 4 5 6 7 8 9 10 11 12"
      ]
     },
     "execution_count": 32,
     "metadata": {},
     "output_type": "execute_result"
    }
   ],
   "source": [
    "demonthlied_data"
   ]
  },
  {
   "cell_type": "code",
   "execution_count": 40,
   "metadata": {},
   "outputs": [
    {
     "data": {
      "text/plain": [
       "<xarray.DataArray 'lon' (lon: 320)>\n",
       "array([  0.   ,   1.125,   2.25 , ..., 356.625, 357.75 , 358.875])\n",
       "Coordinates:\n",
       "    height   float64 ...\n",
       "  * lon      (lon) float64 0.0 1.125 2.25 3.375 4.5 ... 355.5 356.6 357.8 358.9\n",
       "Attributes:\n",
       "    bounds:         lon_bnds\n",
       "    units:          degrees_east\n",
       "    axis:           X\n",
       "    long_name:      Longitude\n",
       "    standard_name:  longitude"
      ]
     },
     "execution_count": 40,
     "metadata": {},
     "output_type": "execute_result"
    }
   ],
   "source": [
    "demonthlied_data.lon"
   ]
  },
  {
   "cell_type": "code",
   "execution_count": 43,
   "metadata": {},
   "outputs": [
    {
     "data": {
      "text/plain": [
       "[<matplotlib.lines.Line2D at 0x2b52ebec0390>]"
      ]
     },
     "execution_count": 43,
     "metadata": {},
     "output_type": "execute_result"
    },
    {
     "data": {
      "image/png": "[encoded data removed]",
      "text/plain": [
       "<Figure size 432x288 with 1 Axes>"
      ]
     },
     "metadata": {
      "needs_background": "light"
     },
     "output_type": "display_data"
    }
   ],
   "source": [
    "demonthlied_data.sel(time=slice('1850-01-16T12:00:00','1860-01-16T12:00:00')).isel(lat=0,lon=0).plot()\n",
    "demonthlied_data.sel(time=slice('1850-01-16T12:00:00','1860-01-16T12:00:00')).isel(lat=100,lon=100).plot()"
   ]
  },
  {
   "cell_type": "code",
   "execution_count": null,
   "metadata": {},
   "outputs": [],
   "source": []
  }
 ],
 "metadata": {
  "kernelspec": {
   "display_name": "CMIP6 2019.10a",
   "language": "python",
   "name": "cmip6-201910a"
  },
  "language_info": {
   "codemirror_mode": {
    "name": "ipython",
    "version": 3
   },
   "file_extension": ".py",
   "mimetype": "text/x-python",
   "name": "python",
   "nbconvert_exporter": "python",
   "pygments_lexer": "ipython3",
   "version": "3.7.3"
  }
 },
 "nbformat": 4,
 "nbformat_minor": 4
}
